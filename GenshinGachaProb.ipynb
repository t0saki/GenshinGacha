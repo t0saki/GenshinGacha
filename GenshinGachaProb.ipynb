{
 "cells": [
  {
   "cell_type": "code",
   "execution_count": 30,
   "metadata": {},
   "outputs": [],
   "source": [
    "import random\n",
    "init_p = 0.006\n",
    "step_p = 0.06\n",
    "epochs = int(1e5)\n",
    "\n",
    "gacha = 0\n",
    "num = 0\n",
    "is_guaranteed = False\n"
   ]
  },
  {
   "cell_type": "code",
   "execution_count": 31,
   "metadata": {},
   "outputs": [],
   "source": [
    "def has_gacha(a):\n",
    "    global gacha, num, is_guaranteed\n",
    "\n",
    "    gacha += a\n",
    "\n",
    "    if not is_guaranteed:\n",
    "        tp = random.random()\n",
    "        if tp < 0.5:\n",
    "            print(\"Guar!\", gacha, num)\n",
    "            return True\n",
    "        else:\n",
    "            is_guaranteed = True\n",
    "    else:\n",
    "        is_guaranteed = False\n",
    "    \n",
    "    num += 1\n",
    "    return False"
   ]
  },
  {
   "cell_type": "code",
   "execution_count": 32,
   "metadata": {},
   "outputs": [],
   "source": [
    "def do_gacha():\n",
    "    global gacha, num, is_guaranteed, init_p, step_p, epochs\n",
    "    p = init_p\n",
    "    i=0;\n",
    "    while(True):\n",
    "        i+=1\n",
    "        if i < 74:\n",
    "            tp = random.random()\n",
    "            if tp < p:\n",
    "                if has_gacha(i):\n",
    "                    return\n",
    "                break\n",
    "        else:\n",
    "            p += step_p\n",
    "            tp = random.random()\n",
    "            if tp < p:\n",
    "                if has_gacha(i):\n",
    "                    return\n",
    "                break"
   ]
  },
  {
   "cell_type": "code",
   "execution_count": 33,
   "metadata": {},
   "outputs": [
    {
     "name": "stdout",
     "output_type": "stream",
     "text": [
      "Guar! 41 0\n",
      "Guar! 55 0\n"
     ]
    }
   ],
   "source": [
    "for epoch in range(epochs):\n",
    "    random.seed(epoch)\n",
    "    do_gacha()"
   ]
  },
  {
   "cell_type": "code",
   "execution_count": 34,
   "metadata": {},
   "outputs": [
    {
     "name": "stdout",
     "output_type": "stream",
     "text": [
      "Final Gacha: 6227067, Num: 99998\n",
      "Average: 62.271915\n",
      "Average gacha: 62.270670\n",
      "Average num: 0.999980\n"
     ]
    }
   ],
   "source": [
    "print(\"Final Gacha: %d, Num: %d\" % (gacha, num))\n",
    "print(\"Average: %f\" % (gacha / num))\n",
    "print(\"Average gacha: %f\" % (gacha / epochs))\n",
    "print(\"Average num: %f\" % (num / epochs))"
   ]
  }
 ],
 "metadata": {
  "kernelspec": {
   "display_name": "Python 3.10.4 ('dl')",
   "language": "python",
   "name": "python3"
  },
  "language_info": {
   "codemirror_mode": {
    "name": "ipython",
    "version": 3
   },
   "file_extension": ".py",
   "mimetype": "text/x-python",
   "name": "python",
   "nbconvert_exporter": "python",
   "pygments_lexer": "ipython3",
   "version": "3.10.4"
  },
  "orig_nbformat": 4,
  "vscode": {
   "interpreter": {
    "hash": "d6801b3161570ce0d1a9e9a29a09f3944c368970b61d19fcd545453892294169"
   }
  }
 },
 "nbformat": 4,
 "nbformat_minor": 2
}
