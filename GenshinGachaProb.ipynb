{
 "cells": [
  {
   "cell_type": "code",
   "execution_count": 101,
   "metadata": {},
   "outputs": [],
   "source": [
    "import random\n",
    "init_p = 0.006\n",
    "step_p = 0.06\n",
    "price_per_gacha = 14\n",
    "epochs = int(1e6)\n",
    "\n",
    "gacha = 0\n",
    "num = 0\n",
    "price = 0\n"
   ]
  },
  {
   "cell_type": "code",
   "execution_count": 102,
   "metadata": {},
   "outputs": [],
   "source": [
    "def has_gacha(a):\n",
    "    global gacha, num, epoch\n",
    "\n",
    "    tp = random.random()\n",
    "    if tp < 0.5:\n",
    "        # print(epoch, \"Guar!\", gacha, num, a)\n",
    "        return True\n",
    "\n",
    "    return False\n"
   ]
  },
  {
   "cell_type": "code",
   "execution_count": 103,
   "metadata": {},
   "outputs": [],
   "source": [
    "def do_gacha():\n",
    "    global init_p, step_p\n",
    "    tgacha = 0\n",
    "    tnum = 0\n",
    "\n",
    "    for j in range(7):\n",
    "        p = init_p\n",
    "        i = 0\n",
    "\n",
    "        while(True):\n",
    "            i += 1\n",
    "            if i > 73:\n",
    "                p += step_p\n",
    "\n",
    "            tp = random.random()\n",
    "            if tp < p:\n",
    "                tgacha += i\n",
    "                if has_gacha(i):\n",
    "                    return tgacha, tnum\n",
    "                else :\n",
    "                    tnum += 1\n",
    "                break\n",
    "\n",
    "    return tgacha, tnum"
   ]
  },
  {
   "cell_type": "code",
   "execution_count": 104,
   "metadata": {},
   "outputs": [
    {
     "name": "stdout",
     "output_type": "stream",
     "text": [
      "0 41 0 -198\n",
      "100000 76 0 -198\n",
      "200000 120 1 -198\n",
      "300000 77 0 -198\n",
      "400000 536 6 5206\n",
      "500000 184 2 278\n",
      "600000 223 2 824\n",
      "700000 155 1 -128\n",
      "800000 95 1 -198\n",
      "900000 201 3 516\n"
     ]
    }
   ],
   "source": [
    "for epoch in range(epochs):\n",
    "    random.seed(epoch)\n",
    "    tprice = -198\n",
    "    tgacha, tnum= do_gacha()\n",
    "    tprice += max(0, (tgacha - 150) * price_per_gacha)\n",
    "    gacha += tgacha\n",
    "    num += tnum\n",
    "    price += tprice\n",
    "    if epoch % 100000 == 0:\n",
    "        print(epoch, tgacha, tnum, tprice)\n",
    "        # print(\"Average:\", gacha / (epoch + 1), num / (epoch + 1), price / (epoch + 1))\n",
    "    "
   ]
  },
  {
   "cell_type": "code",
   "execution_count": 105,
   "metadata": {},
   "outputs": [
    {
     "name": "stdout",
     "output_type": "stream",
     "text": [
      "Final Gacha: 123498440, Num: 990159\n",
      "Average: 124.725867\n",
      "Average gacha: 123.498440\n",
      "Average num: 0.990159\n",
      "Average price: 153.248072\n"
     ]
    }
   ],
   "source": [
    "print(\"Final Gacha: %d, Num: %d\" % (gacha, num))\n",
    "print(\"Average: %f\" % (gacha / num))\n",
    "print(\"Average gacha: %f\" % (gacha / epochs))\n",
    "print(\"Average num: %f\" % (num / epochs))\n",
    "print(\"Average price: %f\" % (price / epochs))"
   ]
  }
 ],
 "metadata": {
  "kernelspec": {
   "display_name": "Python 3.10.4 ('dl')",
   "language": "python",
   "name": "python3"
  },
  "language_info": {
   "codemirror_mode": {
    "name": "ipython",
    "version": 3
   },
   "file_extension": ".py",
   "mimetype": "text/x-python",
   "name": "python",
   "nbconvert_exporter": "python",
   "pygments_lexer": "ipython3",
   "version": "3.10.4"
  },
  "orig_nbformat": 4,
  "vscode": {
   "interpreter": {
    "hash": "d6801b3161570ce0d1a9e9a29a09f3944c368970b61d19fcd545453892294169"
   }
  }
 },
 "nbformat": 4,
 "nbformat_minor": 2
}
