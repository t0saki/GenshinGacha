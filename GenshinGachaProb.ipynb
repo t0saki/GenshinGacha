{
 "cells": [
  {
   "cell_type": "code",
   "execution_count": 21,
   "metadata": {},
   "outputs": [],
   "source": [
    "import random\n",
    "init_p = 0.006\n",
    "step_p = 0.06\n",
    "epochs = int(1e5)\n",
    "\n",
    "gacha = 0\n",
    "num = 0\n"
   ]
  },
  {
   "cell_type": "code",
   "execution_count": 22,
   "metadata": {},
   "outputs": [],
   "source": [
    "def has_gacha(a):\n",
    "    global gacha, num, epoch\n",
    "\n",
    "    gacha += a\n",
    "\n",
    "    tp = random.random()\n",
    "    if tp < 0.5:\n",
    "        # print(epoch, \"Guar!\", gacha, num, a)\n",
    "        return True\n",
    "\n",
    "    num += 1\n",
    "    return False\n"
   ]
  },
  {
   "cell_type": "code",
   "execution_count": 23,
   "metadata": {},
   "outputs": [],
   "source": [
    "def do_gacha():\n",
    "    global init_p, step_p\n",
    "\n",
    "    for j in range(7):\n",
    "        p = init_p\n",
    "        i = 0\n",
    "\n",
    "        while(True):\n",
    "            i += 1\n",
    "            if i > 73:\n",
    "                p += step_p\n",
    "\n",
    "            tp = random.random()\n",
    "            if tp < p:\n",
    "                if has_gacha(i):\n",
    "                    return\n",
    "                break\n"
   ]
  },
  {
   "cell_type": "code",
   "execution_count": 24,
   "metadata": {},
   "outputs": [],
   "source": [
    "for epoch in range(epochs):\n",
    "    random.seed(epoch)\n",
    "    do_gacha()"
   ]
  },
  {
   "cell_type": "code",
   "execution_count": 25,
   "metadata": {},
   "outputs": [
    {
     "name": "stdout",
     "output_type": "stream",
     "text": [
      "Final Gacha: 12279460, Num: 97952\n",
      "Average: 125.362014\n",
      "Average gacha: 122.794600\n",
      "Average num: 0.979520\n"
     ]
    }
   ],
   "source": [
    "print(\"Final Gacha: %d, Num: %d\" % (gacha, num))\n",
    "print(\"Average: %f\" % (gacha / num))\n",
    "print(\"Average gacha: %f\" % (gacha / epochs))\n",
    "print(\"Average num: %f\" % (num / epochs))"
   ]
  }
 ],
 "metadata": {
  "kernelspec": {
   "display_name": "Python 3.10.4 ('dl')",
   "language": "python",
   "name": "python3"
  },
  "language_info": {
   "codemirror_mode": {
    "name": "ipython",
    "version": 3
   },
   "file_extension": ".py",
   "mimetype": "text/x-python",
   "name": "python",
   "nbconvert_exporter": "python",
   "pygments_lexer": "ipython3",
   "version": "3.10.4"
  },
  "orig_nbformat": 4,
  "vscode": {
   "interpreter": {
    "hash": "d6801b3161570ce0d1a9e9a29a09f3944c368970b61d19fcd545453892294169"
   }
  }
 },
 "nbformat": 4,
 "nbformat_minor": 2
}
